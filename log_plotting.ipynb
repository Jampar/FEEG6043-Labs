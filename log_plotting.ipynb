{
 "cells": [
  {
   "cell_type": "code",
   "execution_count": null,
   "metadata": {},
   "outputs": [
    {
     "name": "stdout",
     "output_type": "stream",
     "text": [
      "\n",
      "Data organized by topic:\n",
      "/lidar: 75 entries\n",
      "/true_wheel_speeds: 1046 entries\n",
      "/aruco: 49 entries\n",
      "/est_pose: 2144 entries\n",
      "/wheel_speeds_cmd: 2144 entries\n"
     ]
    }
   ],
   "source": [
    "import json\n",
    "import pandas as pd\n",
    "import numpy as np\n",
    "\n",
    "def parse_json_file(file_path):\n",
    "    data_by_topic = {}  # Dictionary to store data organised by topic\n",
    "\n",
    "    with open(file_path, 'r') as file:\n",
    "        for line in file:\n",
    "            try:\n",
    "                # Parse each JSON object\n",
    "                obj = json.loads(line.strip())\n",
    "\n",
    "                # Organise data by topic\n",
    "                obj_topic = obj.get(\"topic_name\", \"Unknown\")\n",
    "                if obj_topic not in data_by_topic:\n",
    "                    data_by_topic[obj_topic] = []\n",
    "                data_by_topic[obj_topic].append(obj)\n",
    "\n",
    "            except json.JSONDecodeError as e:\n",
    "                print(f\"Error decoding JSON: {e}\")\n",
    "\n",
    "    return data_by_topic\n",
    "\n",
    "file_path = r'logs/20250218_140939_log.json'  # Replace with your file path\n",
    "data_by_topic = parse_json_file(file_path)\n",
    "\n",
    "aruco_path = r'logs/24_Tag_24.csv'  # Replace with your file path\n",
    "\n",
    "print(\"\\nData organized by topic:\")\n",
    "for topic, items in data_by_topic.items():\n",
    "    print(f\"{topic}: {len(items)} entries\")"
   ]
  },
  {
   "cell_type": "code",
   "execution_count": 20,
   "metadata": {},
   "outputs": [
    {
     "name": "stdout",
     "output_type": "stream",
     "text": [
      "dict_keys(['/lidar', '/true_wheel_speeds', '/aruco', '/est_pose', '/wheel_speeds_cmd'])\n",
      "Topic '/groundtruth' does not exist.\n"
     ]
    }
   ],
   "source": [
    "# Inspect structure of items in topics\n",
    "print(data_by_topic.keys())\n",
    "\n",
    "topic_to_check = '/groundtruth'\n",
    "\n",
    "if topic_to_check in data_by_topic:\n",
    "    print(f\"Topic '{topic_to_check}' exists!\")    \n",
    "    simulation_flag = True\n",
    "else:\n",
    "    print(f\"Topic '{topic_to_check}' does not exist.\")\n",
    "    simulation_flag = False"
   ]
  },
  {
   "cell_type": "code",
   "execution_count": 21,
   "metadata": {},
   "outputs": [
    {
     "ename": "FileNotFoundError",
     "evalue": "[Errno 2] No such file or directory: 'logs/24_Tag_24.csv'",
     "output_type": "error",
     "traceback": [
      "\u001b[1;31m---------------------------------------------------------------------------\u001b[0m",
      "\u001b[1;31mFileNotFoundError\u001b[0m                         Traceback (most recent call last)",
      "Cell \u001b[1;32mIn[21], line 63\u001b[0m\n\u001b[0;32m     55\u001b[0m     groundtruth_headings \u001b[38;5;241m=\u001b[39m [(quaternion_to_euler(item[\u001b[38;5;124m'\u001b[39m\u001b[38;5;124mmessage\u001b[39m\u001b[38;5;124m'\u001b[39m][\u001b[38;5;124m'\u001b[39m\u001b[38;5;124morientation\u001b[39m\u001b[38;5;124m'\u001b[39m][\u001b[38;5;124m'\u001b[39m\u001b[38;5;124mw\u001b[39m\u001b[38;5;124m'\u001b[39m], \n\u001b[0;32m     56\u001b[0m                                                 item[\u001b[38;5;124m'\u001b[39m\u001b[38;5;124mmessage\u001b[39m\u001b[38;5;124m'\u001b[39m][\u001b[38;5;124m'\u001b[39m\u001b[38;5;124morientation\u001b[39m\u001b[38;5;124m'\u001b[39m][\u001b[38;5;124m'\u001b[39m\u001b[38;5;124mx\u001b[39m\u001b[38;5;124m'\u001b[39m], \n\u001b[0;32m     57\u001b[0m                                                 item[\u001b[38;5;124m'\u001b[39m\u001b[38;5;124mmessage\u001b[39m\u001b[38;5;124m'\u001b[39m][\u001b[38;5;124m'\u001b[39m\u001b[38;5;124morientation\u001b[39m\u001b[38;5;124m'\u001b[39m][\u001b[38;5;124m'\u001b[39m\u001b[38;5;124my\u001b[39m\u001b[38;5;124m'\u001b[39m], \n\u001b[0;32m     58\u001b[0m                                                 item[\u001b[38;5;124m'\u001b[39m\u001b[38;5;124mmessage\u001b[39m\u001b[38;5;124m'\u001b[39m][\u001b[38;5;124m'\u001b[39m\u001b[38;5;124morientation\u001b[39m\u001b[38;5;124m'\u001b[39m][\u001b[38;5;124m'\u001b[39m\u001b[38;5;124mz\u001b[39m\u001b[38;5;124m'\u001b[39m])[\u001b[38;5;241m2\u001b[39m]) \u001b[38;5;241m%\u001b[39m (\u001b[38;5;241m2\u001b[39m\u001b[38;5;241m*\u001b[39mnp\u001b[38;5;241m.\u001b[39mpi)  \u001b[38;5;66;03m# Extract the yaw (heading)\u001b[39;00m\n\u001b[0;32m     59\u001b[0m                             \u001b[38;5;28;01mfor\u001b[39;00m item \u001b[38;5;129;01min\u001b[39;00m data_by_topic[\u001b[38;5;124m'\u001b[39m\u001b[38;5;124m/groundtruth\u001b[39m\u001b[38;5;124m'\u001b[39m]\n\u001b[0;32m     60\u001b[0m     ]\n\u001b[0;32m     62\u001b[0m \u001b[38;5;28;01melse\u001b[39;00m:\n\u001b[1;32m---> 63\u001b[0m     df \u001b[38;5;241m=\u001b[39m pd\u001b[38;5;241m.\u001b[39mread_csv(aruco_path)    \n\u001b[0;32m     64\u001b[0m     start_time \u001b[38;5;241m=\u001b[39m np\u001b[38;5;241m.\u001b[39mmin(est_pose_timestamps)\n\u001b[0;32m     65\u001b[0m     end_time \u001b[38;5;241m=\u001b[39m np\u001b[38;5;241m.\u001b[39mmax(est_pose_timestamps)\n",
      "File \u001b[1;32mc:\\Users\\james\\anaconda3\\Lib\\site-packages\\pandas\\io\\parsers\\readers.py:1026\u001b[0m, in \u001b[0;36mread_csv\u001b[1;34m(filepath_or_buffer, sep, delimiter, header, names, index_col, usecols, dtype, engine, converters, true_values, false_values, skipinitialspace, skiprows, skipfooter, nrows, na_values, keep_default_na, na_filter, verbose, skip_blank_lines, parse_dates, infer_datetime_format, keep_date_col, date_parser, date_format, dayfirst, cache_dates, iterator, chunksize, compression, thousands, decimal, lineterminator, quotechar, quoting, doublequote, escapechar, comment, encoding, encoding_errors, dialect, on_bad_lines, delim_whitespace, low_memory, memory_map, float_precision, storage_options, dtype_backend)\u001b[0m\n\u001b[0;32m   1013\u001b[0m kwds_defaults \u001b[38;5;241m=\u001b[39m _refine_defaults_read(\n\u001b[0;32m   1014\u001b[0m     dialect,\n\u001b[0;32m   1015\u001b[0m     delimiter,\n\u001b[1;32m   (...)\u001b[0m\n\u001b[0;32m   1022\u001b[0m     dtype_backend\u001b[38;5;241m=\u001b[39mdtype_backend,\n\u001b[0;32m   1023\u001b[0m )\n\u001b[0;32m   1024\u001b[0m kwds\u001b[38;5;241m.\u001b[39mupdate(kwds_defaults)\n\u001b[1;32m-> 1026\u001b[0m \u001b[38;5;28;01mreturn\u001b[39;00m _read(filepath_or_buffer, kwds)\n",
      "File \u001b[1;32mc:\\Users\\james\\anaconda3\\Lib\\site-packages\\pandas\\io\\parsers\\readers.py:620\u001b[0m, in \u001b[0;36m_read\u001b[1;34m(filepath_or_buffer, kwds)\u001b[0m\n\u001b[0;32m    617\u001b[0m _validate_names(kwds\u001b[38;5;241m.\u001b[39mget(\u001b[38;5;124m\"\u001b[39m\u001b[38;5;124mnames\u001b[39m\u001b[38;5;124m\"\u001b[39m, \u001b[38;5;28;01mNone\u001b[39;00m))\n\u001b[0;32m    619\u001b[0m \u001b[38;5;66;03m# Create the parser.\u001b[39;00m\n\u001b[1;32m--> 620\u001b[0m parser \u001b[38;5;241m=\u001b[39m TextFileReader(filepath_or_buffer, \u001b[38;5;241m*\u001b[39m\u001b[38;5;241m*\u001b[39mkwds)\n\u001b[0;32m    622\u001b[0m \u001b[38;5;28;01mif\u001b[39;00m chunksize \u001b[38;5;129;01mor\u001b[39;00m iterator:\n\u001b[0;32m    623\u001b[0m     \u001b[38;5;28;01mreturn\u001b[39;00m parser\n",
      "File \u001b[1;32mc:\\Users\\james\\anaconda3\\Lib\\site-packages\\pandas\\io\\parsers\\readers.py:1620\u001b[0m, in \u001b[0;36mTextFileReader.__init__\u001b[1;34m(self, f, engine, **kwds)\u001b[0m\n\u001b[0;32m   1617\u001b[0m     \u001b[38;5;28mself\u001b[39m\u001b[38;5;241m.\u001b[39moptions[\u001b[38;5;124m\"\u001b[39m\u001b[38;5;124mhas_index_names\u001b[39m\u001b[38;5;124m\"\u001b[39m] \u001b[38;5;241m=\u001b[39m kwds[\u001b[38;5;124m\"\u001b[39m\u001b[38;5;124mhas_index_names\u001b[39m\u001b[38;5;124m\"\u001b[39m]\n\u001b[0;32m   1619\u001b[0m \u001b[38;5;28mself\u001b[39m\u001b[38;5;241m.\u001b[39mhandles: IOHandles \u001b[38;5;241m|\u001b[39m \u001b[38;5;28;01mNone\u001b[39;00m \u001b[38;5;241m=\u001b[39m \u001b[38;5;28;01mNone\u001b[39;00m\n\u001b[1;32m-> 1620\u001b[0m \u001b[38;5;28mself\u001b[39m\u001b[38;5;241m.\u001b[39m_engine \u001b[38;5;241m=\u001b[39m \u001b[38;5;28mself\u001b[39m\u001b[38;5;241m.\u001b[39m_make_engine(f, \u001b[38;5;28mself\u001b[39m\u001b[38;5;241m.\u001b[39mengine)\n",
      "File \u001b[1;32mc:\\Users\\james\\anaconda3\\Lib\\site-packages\\pandas\\io\\parsers\\readers.py:1880\u001b[0m, in \u001b[0;36mTextFileReader._make_engine\u001b[1;34m(self, f, engine)\u001b[0m\n\u001b[0;32m   1878\u001b[0m     \u001b[38;5;28;01mif\u001b[39;00m \u001b[38;5;124m\"\u001b[39m\u001b[38;5;124mb\u001b[39m\u001b[38;5;124m\"\u001b[39m \u001b[38;5;129;01mnot\u001b[39;00m \u001b[38;5;129;01min\u001b[39;00m mode:\n\u001b[0;32m   1879\u001b[0m         mode \u001b[38;5;241m+\u001b[39m\u001b[38;5;241m=\u001b[39m \u001b[38;5;124m\"\u001b[39m\u001b[38;5;124mb\u001b[39m\u001b[38;5;124m\"\u001b[39m\n\u001b[1;32m-> 1880\u001b[0m \u001b[38;5;28mself\u001b[39m\u001b[38;5;241m.\u001b[39mhandles \u001b[38;5;241m=\u001b[39m get_handle(\n\u001b[0;32m   1881\u001b[0m     f,\n\u001b[0;32m   1882\u001b[0m     mode,\n\u001b[0;32m   1883\u001b[0m     encoding\u001b[38;5;241m=\u001b[39m\u001b[38;5;28mself\u001b[39m\u001b[38;5;241m.\u001b[39moptions\u001b[38;5;241m.\u001b[39mget(\u001b[38;5;124m\"\u001b[39m\u001b[38;5;124mencoding\u001b[39m\u001b[38;5;124m\"\u001b[39m, \u001b[38;5;28;01mNone\u001b[39;00m),\n\u001b[0;32m   1884\u001b[0m     compression\u001b[38;5;241m=\u001b[39m\u001b[38;5;28mself\u001b[39m\u001b[38;5;241m.\u001b[39moptions\u001b[38;5;241m.\u001b[39mget(\u001b[38;5;124m\"\u001b[39m\u001b[38;5;124mcompression\u001b[39m\u001b[38;5;124m\"\u001b[39m, \u001b[38;5;28;01mNone\u001b[39;00m),\n\u001b[0;32m   1885\u001b[0m     memory_map\u001b[38;5;241m=\u001b[39m\u001b[38;5;28mself\u001b[39m\u001b[38;5;241m.\u001b[39moptions\u001b[38;5;241m.\u001b[39mget(\u001b[38;5;124m\"\u001b[39m\u001b[38;5;124mmemory_map\u001b[39m\u001b[38;5;124m\"\u001b[39m, \u001b[38;5;28;01mFalse\u001b[39;00m),\n\u001b[0;32m   1886\u001b[0m     is_text\u001b[38;5;241m=\u001b[39mis_text,\n\u001b[0;32m   1887\u001b[0m     errors\u001b[38;5;241m=\u001b[39m\u001b[38;5;28mself\u001b[39m\u001b[38;5;241m.\u001b[39moptions\u001b[38;5;241m.\u001b[39mget(\u001b[38;5;124m\"\u001b[39m\u001b[38;5;124mencoding_errors\u001b[39m\u001b[38;5;124m\"\u001b[39m, \u001b[38;5;124m\"\u001b[39m\u001b[38;5;124mstrict\u001b[39m\u001b[38;5;124m\"\u001b[39m),\n\u001b[0;32m   1888\u001b[0m     storage_options\u001b[38;5;241m=\u001b[39m\u001b[38;5;28mself\u001b[39m\u001b[38;5;241m.\u001b[39moptions\u001b[38;5;241m.\u001b[39mget(\u001b[38;5;124m\"\u001b[39m\u001b[38;5;124mstorage_options\u001b[39m\u001b[38;5;124m\"\u001b[39m, \u001b[38;5;28;01mNone\u001b[39;00m),\n\u001b[0;32m   1889\u001b[0m )\n\u001b[0;32m   1890\u001b[0m \u001b[38;5;28;01massert\u001b[39;00m \u001b[38;5;28mself\u001b[39m\u001b[38;5;241m.\u001b[39mhandles \u001b[38;5;129;01mis\u001b[39;00m \u001b[38;5;129;01mnot\u001b[39;00m \u001b[38;5;28;01mNone\u001b[39;00m\n\u001b[0;32m   1891\u001b[0m f \u001b[38;5;241m=\u001b[39m \u001b[38;5;28mself\u001b[39m\u001b[38;5;241m.\u001b[39mhandles\u001b[38;5;241m.\u001b[39mhandle\n",
      "File \u001b[1;32mc:\\Users\\james\\anaconda3\\Lib\\site-packages\\pandas\\io\\common.py:873\u001b[0m, in \u001b[0;36mget_handle\u001b[1;34m(path_or_buf, mode, encoding, compression, memory_map, is_text, errors, storage_options)\u001b[0m\n\u001b[0;32m    868\u001b[0m \u001b[38;5;28;01melif\u001b[39;00m \u001b[38;5;28misinstance\u001b[39m(handle, \u001b[38;5;28mstr\u001b[39m):\n\u001b[0;32m    869\u001b[0m     \u001b[38;5;66;03m# Check whether the filename is to be opened in binary mode.\u001b[39;00m\n\u001b[0;32m    870\u001b[0m     \u001b[38;5;66;03m# Binary mode does not support 'encoding' and 'newline'.\u001b[39;00m\n\u001b[0;32m    871\u001b[0m     \u001b[38;5;28;01mif\u001b[39;00m ioargs\u001b[38;5;241m.\u001b[39mencoding \u001b[38;5;129;01mand\u001b[39;00m \u001b[38;5;124m\"\u001b[39m\u001b[38;5;124mb\u001b[39m\u001b[38;5;124m\"\u001b[39m \u001b[38;5;129;01mnot\u001b[39;00m \u001b[38;5;129;01min\u001b[39;00m ioargs\u001b[38;5;241m.\u001b[39mmode:\n\u001b[0;32m    872\u001b[0m         \u001b[38;5;66;03m# Encoding\u001b[39;00m\n\u001b[1;32m--> 873\u001b[0m         handle \u001b[38;5;241m=\u001b[39m \u001b[38;5;28mopen\u001b[39m(\n\u001b[0;32m    874\u001b[0m             handle,\n\u001b[0;32m    875\u001b[0m             ioargs\u001b[38;5;241m.\u001b[39mmode,\n\u001b[0;32m    876\u001b[0m             encoding\u001b[38;5;241m=\u001b[39mioargs\u001b[38;5;241m.\u001b[39mencoding,\n\u001b[0;32m    877\u001b[0m             errors\u001b[38;5;241m=\u001b[39merrors,\n\u001b[0;32m    878\u001b[0m             newline\u001b[38;5;241m=\u001b[39m\u001b[38;5;124m\"\u001b[39m\u001b[38;5;124m\"\u001b[39m,\n\u001b[0;32m    879\u001b[0m         )\n\u001b[0;32m    880\u001b[0m     \u001b[38;5;28;01melse\u001b[39;00m:\n\u001b[0;32m    881\u001b[0m         \u001b[38;5;66;03m# Binary mode\u001b[39;00m\n\u001b[0;32m    882\u001b[0m         handle \u001b[38;5;241m=\u001b[39m \u001b[38;5;28mopen\u001b[39m(handle, ioargs\u001b[38;5;241m.\u001b[39mmode)\n",
      "\u001b[1;31mFileNotFoundError\u001b[0m: [Errno 2] No such file or directory: 'logs/24_Tag_24.csv'"
     ]
    }
   ],
   "source": [
    "import math\n",
    "\n",
    "# To extract heading from quaternion (orientation)\n",
    "def quaternion_to_euler(w, x, y, z):\n",
    "    \"\"\"Convert quaternion (w, x, y, z) to Euler angles (roll, pitch, yaw).\"\"\"\n",
    "    t0 = +2.0 * (w * x + y * z)\n",
    "    t1 = +1.0 - 2.0 * (x * x + y * y)\n",
    "    roll_x = math.atan2(t0, t1)\n",
    "    \n",
    "    t2 = +2.0 * (w * y - z * x)\n",
    "    t2 = +1.0 if t2 > +1.0 else t2\n",
    "    t2 = -1.0 if t2 < -1.0 else t2\n",
    "    pitch_y = math.asin(t2)\n",
    "    \n",
    "    t3 = +2.0 * (w * z + x * y)\n",
    "    t4 = +1.0 - 2.0 * (y * y + z * z)\n",
    "    yaw_z = math.atan2(t3, t4)\n",
    "    \n",
    "    return roll_x, pitch_y, yaw_z\n",
    "\n",
    "# For /est_pose (same structure as /aruco)\n",
    "est_pose_timestamps = [item['message']['header']['stamp'] for item in data_by_topic['/est_pose']]\n",
    "est_pose_northings = [item['message']['pose']['position']['x'] for item in data_by_topic['/est_pose']]\n",
    "est_pose_eastings = [item['message']['pose']['position']['y'] for item in data_by_topic['/est_pose']]\n",
    "est_pose_headings = [(quaternion_to_euler(item['message']['pose']['orientation']['w'], \n",
    "                                         item['message']['pose']['orientation']['x'], \n",
    "                                         item['message']['pose']['orientation']['y'], \n",
    "                                         item['message']['pose']['orientation']['z'])[2])% (2*np.pi)\n",
    "                     for item in data_by_topic['/est_pose']]\n",
    "\n",
    "\n",
    "# Wheel speeds\n",
    "true_wheel_timestamps = [item['message']['header']['stamp'] for item in data_by_topic['/true_wheel_speeds']]\n",
    "true_wheel_speeds = [item['message']['vector']['x'] for item in data_by_topic['/true_wheel_speeds']]\n",
    "wheel_speeds_timestamps = [item['message']['header']['stamp'] for item in data_by_topic['/wheel_speeds_cmd']]\n",
    "wheel_speeds_cmd = [item['message']['vector']['x'] for item in data_by_topic['/wheel_speeds_cmd']]\n",
    "\n",
    "# Extract ArUco data northings, eastings, and heading\n",
    "aruco_timestamps = [(item['message']['header']['stamp']) for item in data_by_topic['/aruco']]\n",
    "aruco_northings = [item['message']['pose']['position']['x'] for item in data_by_topic['/aruco']]\n",
    "aruco_eastings = [item['message']['pose']['position']['y'] for item in data_by_topic['/aruco']]\n",
    "\n",
    "aruco_headings = [(quaternion_to_euler(item['message']['pose']['orientation']['w'], \n",
    "                                      item['message']['pose']['orientation']['x'], \n",
    "                                      item['message']['pose']['orientation']['y'], \n",
    "                                      item['message']['pose']['orientation']['z'])[2]) % (2*np.pi)\n",
    "                  for item in data_by_topic['/aruco']]\n",
    "\n",
    "# Extract simulation ground truth data northings, eastings\n",
    "if simulation_flag == True:\n",
    "    groundtruth_timestamps = [float(item['timestamp']) for item in data_by_topic['/groundtruth']]\n",
    "    groundtruth_northings = [item['message']['position']['x'] for item in data_by_topic['/groundtruth']]\n",
    "    groundtruth_eastings = [item['message']['position']['y'] for item in data_by_topic['/groundtruth']]\n",
    "    \n",
    "    groundtruth_headings = [(quaternion_to_euler(item['message']['orientation']['w'], \n",
    "                                                item['message']['orientation']['x'], \n",
    "                                                item['message']['orientation']['y'], \n",
    "                                                item['message']['orientation']['z'])[2]) % (2*np.pi)  # Extract the yaw (heading)\n",
    "                            for item in data_by_topic['/groundtruth']\n",
    "    ]\n",
    "\n",
    "else:\n",
    "    df = pd.read_csv(aruco_path)    \n",
    "    start_time = np.min(est_pose_timestamps)\n",
    "    end_time = np.max(est_pose_timestamps)\n",
    "    filtered_data = df.loc[(df['epoch [s]'] >= start_time) & (df['epoch [s]'] <= end_time)]\n",
    "\n",
    "    groundtruth_timestamps = filtered_data['epoch [s]']\n",
    "    groundtruth_northings = filtered_data['x [m]']\n",
    "    groundtruth_eastings = filtered_data['y [m]']\n",
    "    groundtruth_headings = np.deg2rad(filtered_data['yaw [deg]'] % (360))"
   ]
  },
  {
   "cell_type": "code",
   "execution_count": null,
   "metadata": {},
   "outputs": [],
   "source": [
    "import matplotlib.pyplot as plt\n",
    "%matplotlib qt\n",
    "\n",
    "plt.figure(figsize=(10, 8))\n",
    "plt.scatter(aruco_eastings, aruco_northings, label=\"Aruco\", marker=\"x\", color=\"blue\")\n",
    "plt.plot(groundtruth_eastings, groundtruth_northings, label=\"Ground Truth\", marker=\".\", color=\"orange\")\n",
    "plt.plot(est_pose_eastings, est_pose_northings, label=\"Estimated Pose\", marker=\".\", color=\"green\")\n",
    "# plt.plot(lidar_eastings, lidar_northings, label=\"Lidar\", marker=\"s\")\n",
    "\n",
    "plt.xlabel(\"Eastings (m)\")\n",
    "plt.ylabel(\"Northings(m)\")\n",
    "plt.legend()\n",
    "plt.title(\"Env. Frame Locations\")\n",
    "plt.grid()\n",
    "plt.show()"
   ]
  },
  {
   "cell_type": "code",
   "execution_count": null,
   "metadata": {},
   "outputs": [],
   "source": [
    "# Extract timestamps fpr wheel speeds\n",
    "true_wheel_speeds_timestamps = [entry['timestamp'] for entry in data_by_topic['/true_wheel_speeds']]\n",
    "wheel_speeds_cmd_timestamps = [entry['timestamp'] for entry in data_by_topic['/wheel_speeds_cmd']]\n",
    "\n",
    "# Ensure timestamps are float\n",
    "true_wheel_speeds_timestamps = [float(ts) for ts in true_wheel_speeds_timestamps]\n",
    "wheel_speeds_cmd_timestamps = [float(ts) for ts in wheel_speeds_cmd_timestamps]\n",
    "\n",
    "plt.figure(figsize=(10, 6))\n",
    "\n",
    "plt.plot(true_wheel_speeds_timestamps, true_wheel_speeds, label=\"Measured Wheel Speeds\", marker=\".\", color=\"orange\")\n",
    "plt.plot(wheel_speeds_cmd_timestamps, wheel_speeds_cmd, label=\"Commanded Wheel Speeds\", marker=\".\", color=\"green\")\n",
    "\n",
    "plt.xlabel(\"Time (seconds)\")\n",
    "plt.ylabel(\"Wheel Speed (rad/s)\")\n",
    "plt.legend()\n",
    "plt.title(\"Measured and Commanded Wheel Speeds\")\n",
    "plt.grid()\n",
    "plt.show()"
   ]
  },
  {
   "cell_type": "code",
   "execution_count": null,
   "metadata": {},
   "outputs": [],
   "source": [
    "plt.figure(figsize=(10, 6))\n",
    "plt.plot(aruco_timestamps, aruco_headings, label=\"Aruco Heading\", marker=\"x\", color=\"blue\")\n",
    "plt.plot(est_pose_timestamps, est_pose_headings, label=\"Estimated Pose Heading\", marker=\".\", color=\"green\")\n",
    "plt.plot(groundtruth_timestamps, groundtruth_headings, label=\"Groundtruth Heading\", marker=\".\", color=\"orange\")\n",
    "\n",
    "plt.xlabel(\"Time Step\")\n",
    "plt.ylabel(\"Heading (degrees)\")\n",
    "plt.legend()\n",
    "plt.title(\"Headings: Aruco vs Estimated Pose\")\n",
    "plt.grid()\n",
    "plt.show()"
   ]
  }
 ],
 "metadata": {
  "kernelspec": {
   "display_name": "base",
   "language": "python",
   "name": "python3"
  },
  "language_info": {
   "codemirror_mode": {
    "name": "ipython",
    "version": 3
   },
   "file_extension": ".py",
   "mimetype": "text/x-python",
   "name": "python",
   "nbconvert_exporter": "python",
   "pygments_lexer": "ipython3",
   "version": "3.12.7"
  }
 },
 "nbformat": 4,
 "nbformat_minor": 4
}
